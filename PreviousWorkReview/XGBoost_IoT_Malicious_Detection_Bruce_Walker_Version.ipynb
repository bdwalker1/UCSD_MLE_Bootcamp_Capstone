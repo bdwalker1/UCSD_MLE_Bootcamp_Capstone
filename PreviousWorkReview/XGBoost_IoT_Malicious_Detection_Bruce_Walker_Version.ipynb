{
  "cells": [
    {
      "cell_type": "markdown",
      "metadata": {
        "id": "view-in-github",
        "colab_type": "text"
      },
      "source": [
        "<a href=\"https://colab.research.google.com/github/bdwalker1/UCSD_MLE_Bootcamp_Capstone/blob/master/PreviousWorkReview/XGBoost_IoT_Malicious_Detection_Bruce_Walker_Version.ipynb\" target=\"_parent\"><img src=\"https://colab.research.google.com/assets/colab-badge.svg\" alt=\"Open In Colab\"/></a>"
      ]
    },
    {
      "cell_type": "markdown",
      "source": [
        "# **20.6.2 Capstone: Survey Existing Research and Reproduce Available Solutions**\n",
        "\n",
        "*This notebook created by Rémi Blier was retrieved from Kaggle (https://www.kaggle.com/code/rem4000/xgboost-iot-malicious-detection-99-99-accuracy) and adopted to work in my Google CoLab account.*\n",
        "\n",
        "I've added inline notes (look for comments starting with \"NOTE:\") for observations and/or if I have modified code for some reason.\n",
        "\n",
        "My observations and conclusions are at the bottom of the Notebook.\n",
        "\n",
        "---\n",
        "---\n"
      ],
      "metadata": {
        "id": "IEjOttmAvQ4L"
      },
      "id": "IEjOttmAvQ4L"
    },
    {
      "metadata": {
        "id": "a6a716f8fe3514a8"
      },
      "cell_type": "markdown",
      "source": [
        "### Citations\n",
        "#### Dataset\n",
        "“Stratosphere Laboratory. A labeled dataset with malicious and benign IoT network traffic. January 22th. Agustin Parmisano, Sebastian Garcia, Maria Jose Erquiaga. https://www.stratosphereips.org/datasets-iot23\n",
        "#### Model advices\n",
        "Christian Desrosiers, École de Technologie Supérieur (ETS), for proposing XGBoost model.\n",
        "#### Notebook creation\n",
        "Rémi Blier, École de Technologie Supérieur (ETS), for creating this notebook.\n",
        "#### XGBoost model\n",
        "Chen, T., & Guestrin, C. (2016). XGBoost: A Scalable Tree Boosting System. In Proceedings of the 22nd ACM SIGKDD International Conference on Knowledge Discovery and Data Mining (pp. 785–794). New York, NY, USA: ACM. https://doi.org/10.1145/2939672.2939785"
      ],
      "id": "a6a716f8fe3514a8"
    },
    {
      "cell_type": "code",
      "source": [
        "# NOTE: Connect to my Google drive for data\n",
        "from google.colab import drive\n",
        "drive.mount('/content/drive')"
      ],
      "metadata": {
        "colab": {
          "base_uri": "https://localhost:8080/"
        },
        "id": "vdDBIp1PK14Y",
        "outputId": "4036fb08-3715-456c-ffcc-eb9b7f99fbbd"
      },
      "id": "vdDBIp1PK14Y",
      "execution_count": 1,
      "outputs": [
        {
          "output_type": "stream",
          "name": "stdout",
          "text": [
            "Mounted at /content/drive\n"
          ]
        }
      ]
    },
    {
      "cell_type": "code",
      "source": [
        "# NOTE: Install needed packages\n",
        "!pip install keras-tuner\n",
        "!pip install xgboost\n",
        "!pip install scikit-learn==1.5.2\n"
      ],
      "metadata": {
        "colab": {
          "base_uri": "https://localhost:8080/"
        },
        "id": "SWBdQQvSP3on",
        "outputId": "3d3d15cc-0cca-40a8-96eb-0077d8f76431"
      },
      "id": "SWBdQQvSP3on",
      "execution_count": 2,
      "outputs": [
        {
          "output_type": "stream",
          "name": "stdout",
          "text": [
            "Collecting keras-tuner\n",
            "  Downloading keras_tuner-1.4.7-py3-none-any.whl.metadata (5.4 kB)\n",
            "Requirement already satisfied: keras in /usr/local/lib/python3.10/dist-packages (from keras-tuner) (2.15.0)\n",
            "Requirement already satisfied: packaging in /usr/local/lib/python3.10/dist-packages (from keras-tuner) (24.2)\n",
            "Requirement already satisfied: requests in /usr/local/lib/python3.10/dist-packages (from keras-tuner) (2.32.3)\n",
            "Collecting kt-legacy (from keras-tuner)\n",
            "  Downloading kt_legacy-1.0.5-py3-none-any.whl.metadata (221 bytes)\n",
            "Requirement already satisfied: charset-normalizer<4,>=2 in /usr/local/lib/python3.10/dist-packages (from requests->keras-tuner) (3.4.0)\n",
            "Requirement already satisfied: idna<4,>=2.5 in /usr/local/lib/python3.10/dist-packages (from requests->keras-tuner) (3.10)\n",
            "Requirement already satisfied: urllib3<3,>=1.21.1 in /usr/local/lib/python3.10/dist-packages (from requests->keras-tuner) (2.2.3)\n",
            "Requirement already satisfied: certifi>=2017.4.17 in /usr/local/lib/python3.10/dist-packages (from requests->keras-tuner) (2024.12.14)\n",
            "Downloading keras_tuner-1.4.7-py3-none-any.whl (129 kB)\n",
            "\u001b[2K   \u001b[90m━━━━━━━━━━━━━━━━━━━━━━━━━━━━━━━━━━━━━━━━\u001b[0m \u001b[32m129.1/129.1 kB\u001b[0m \u001b[31m2.6 MB/s\u001b[0m eta \u001b[36m0:00:00\u001b[0m\n",
            "\u001b[?25hDownloading kt_legacy-1.0.5-py3-none-any.whl (9.6 kB)\n",
            "Installing collected packages: kt-legacy, keras-tuner\n",
            "Successfully installed keras-tuner-1.4.7 kt-legacy-1.0.5\n",
            "Collecting xgboost\n",
            "  Downloading xgboost-2.1.3-py3-none-manylinux_2_28_x86_64.whl.metadata (2.1 kB)\n",
            "Requirement already satisfied: numpy in /usr/local/lib/python3.10/dist-packages (from xgboost) (1.26.4)\n",
            "Collecting nvidia-nccl-cu12 (from xgboost)\n",
            "  Downloading nvidia_nccl_cu12-2.25.1-py3-none-manylinux2014_x86_64.manylinux_2_17_x86_64.whl.metadata (1.8 kB)\n",
            "Requirement already satisfied: scipy in /usr/local/lib/python3.10/dist-packages (from xgboost) (1.13.1)\n",
            "Downloading xgboost-2.1.3-py3-none-manylinux_2_28_x86_64.whl (153.9 MB)\n",
            "\u001b[2K   \u001b[90m━━━━━━━━━━━━━━━━━━━━━━━━━━━━━━━━━━━━━━━━\u001b[0m \u001b[32m153.9/153.9 MB\u001b[0m \u001b[31m6.9 MB/s\u001b[0m eta \u001b[36m0:00:00\u001b[0m\n",
            "\u001b[?25hDownloading nvidia_nccl_cu12-2.25.1-py3-none-manylinux2014_x86_64.manylinux_2_17_x86_64.whl (201.4 MB)\n",
            "\u001b[2K   \u001b[90m━━━━━━━━━━━━━━━━━━━━━━━━━━━━━━━━━━━━━━━━\u001b[0m \u001b[32m201.4/201.4 MB\u001b[0m \u001b[31m5.2 MB/s\u001b[0m eta \u001b[36m0:00:00\u001b[0m\n",
            "\u001b[?25hInstalling collected packages: nvidia-nccl-cu12, xgboost\n",
            "Successfully installed nvidia-nccl-cu12-2.25.1 xgboost-2.1.3\n",
            "Collecting scikit-learn==1.5.2\n",
            "  Downloading scikit_learn-1.5.2-cp310-cp310-manylinux_2_17_x86_64.manylinux2014_x86_64.whl.metadata (13 kB)\n",
            "Requirement already satisfied: numpy>=1.19.5 in /usr/local/lib/python3.10/dist-packages (from scikit-learn==1.5.2) (1.26.4)\n",
            "Requirement already satisfied: scipy>=1.6.0 in /usr/local/lib/python3.10/dist-packages (from scikit-learn==1.5.2) (1.13.1)\n",
            "Requirement already satisfied: joblib>=1.2.0 in /usr/local/lib/python3.10/dist-packages (from scikit-learn==1.5.2) (1.4.2)\n",
            "Requirement already satisfied: threadpoolctl>=3.1.0 in /usr/local/lib/python3.10/dist-packages (from scikit-learn==1.5.2) (3.5.0)\n",
            "Downloading scikit_learn-1.5.2-cp310-cp310-manylinux_2_17_x86_64.manylinux2014_x86_64.whl (13.3 MB)\n",
            "\u001b[2K   \u001b[90m━━━━━━━━━━━━━━━━━━━━━━━━━━━━━━━━━━━━━━━━\u001b[0m \u001b[32m13.3/13.3 MB\u001b[0m \u001b[31m98.9 MB/s\u001b[0m eta \u001b[36m0:00:00\u001b[0m\n",
            "\u001b[?25hInstalling collected packages: scikit-learn\n",
            "  Attempting uninstall: scikit-learn\n",
            "    Found existing installation: scikit-learn 1.6.0\n",
            "    Uninstalling scikit-learn-1.6.0:\n",
            "      Successfully uninstalled scikit-learn-1.6.0\n",
            "Successfully installed scikit-learn-1.5.2\n"
          ]
        }
      ]
    },
    {
      "cell_type": "code",
      "source": [
        "# NOTE: This cell is just to test if XGBoost is loaded/working\n",
        "\n",
        "# from xgboost import XGBClassifier\n",
        "# from sklearn.feature_selection import SelectFromModel\n",
        "# from sklearn.datasets import make_classification\n",
        "\n",
        "# # Create a dataset\n",
        "# XX, yy = make_classification(n_samples=1000, n_features=10, random_state=42)\n",
        "\n",
        "# # Fit the model\n",
        "# model = XGBClassifier()\n",
        "# model.fit(XX, yy)\n",
        "\n",
        "# # Feature selection\n",
        "# selection = SelectFromModel(model, threshold=0.5, prefit=True)\n",
        "# XX_selected = selection.transform(XX)\n",
        "# print(\"Selected features shape:\", XX_selected.shape)"
      ],
      "metadata": {
        "id": "iaaiDUYYj92q"
      },
      "id": "iaaiDUYYj92q",
      "execution_count": 3,
      "outputs": []
    },
    {
      "metadata": {
        "id": "d73f4eaa23624d23"
      },
      "cell_type": "markdown",
      "source": [
        "# Import Data"
      ],
      "id": "d73f4eaa23624d23"
    },
    {
      "cell_type": "code",
      "source": [
        "# NOTE: Setting the path to the data files on my Google drive\n",
        "\n",
        "# Path for CoLab\n",
        "data_path = \"/content/drive/MyDrive/UCSD_MLE_Bootcamp_Capstone/data/MalwareDetectionInNetworkTrafficData/raw\"\n",
        "\n",
        "# Path for Windows PC\n",
        "# data_path = \"/My Drive/UCSD_MLE_Bootcamp_Capstone/data/MalwareDetectionInNetworkTrafficData\""
      ],
      "metadata": {
        "id": "HqPp_Mcv5Oa6"
      },
      "id": "HqPp_Mcv5Oa6",
      "execution_count": 4,
      "outputs": []
    },
    {
      "cell_type": "code",
      "id": "initial_id",
      "metadata": {
        "collapsed": true,
        "ExecuteTime": {
          "end_time": "2024-09-05T04:24:20.905389Z",
          "start_time": "2024-09-05T04:22:18.679534Z"
        },
        "id": "initial_id"
      },
      "source": [
        "def find_csv_delimiter(file_path, max_lines=5):\n",
        "    with open(file_path, 'r', newline='') as file:\n",
        "        sample_lines = [file.readline().strip() for _ in range(max_lines)]\n",
        "\n",
        "    delimiters = [',', ';', '\\t', '|']  # Common delimiters to check\n",
        "\n",
        "    best_delimiter = ','\n",
        "    max_delimiter_count = 0\n",
        "\n",
        "    for delimiter in delimiters:\n",
        "        delimiter_count = sum(line.count(delimiter) for line in sample_lines)\n",
        "        if delimiter_count > max_delimiter_count:\n",
        "            best_delimiter = delimiter\n",
        "            max_delimiter_count = delimiter_count\n",
        "\n",
        "    return best_delimiter"
      ],
      "outputs": [],
      "execution_count": 5
    },
    {
      "cell_type": "code",
      "source": [
        "import csv\n",
        "import numpy as np\n",
        "from sklearn.preprocessing import LabelEncoder\n",
        "\n",
        "def extract_data_from_csv(file_path, delimiter=','):\n",
        "    data = []  # Create a list to store the data\n",
        "\n",
        "    # Open the CSV file for reading\n",
        "    with open(file_path, mode='r', newline='') as file:\n",
        "        # Create a CSV reader object with the pipe delimiter\n",
        "\n",
        "        csv_reader = csv.reader(file, delimiter=delimiter)\n",
        "\n",
        "        # Read the header row\n",
        "        header = next(csv_reader)\n",
        "\n",
        "        # Iterate through the rows in the CSV file\n",
        "        for row in csv_reader:\n",
        "            data.append(row)\n",
        "\n",
        "    return data"
      ],
      "metadata": {
        "id": "JBSHcgA95wMe"
      },
      "id": "JBSHcgA95wMe",
      "execution_count": 6,
      "outputs": []
    },
    {
      "cell_type": "code",
      "source": [
        "data = []\n",
        "\n",
        "import os\n",
        "cpt = 0\n",
        "\n",
        "# NOTE: changing directory to my data path\n",
        "# for dirname, _, filenames in os.walk('/kaggle/input'):\n",
        "for dirname, _, filenames in os.walk(data_path):\n",
        "\n",
        "        for filename in filenames:\n",
        "# NOTE: Remi limited loading to first two files. I changed to load data from all files\n",
        "#            if cpt < 2:\n",
        "                file_path = os.path.join(dirname, filename)\n",
        "                delimiter = find_csv_delimiter(file_path)\n",
        "                data += extract_data_from_csv(file_path, delimiter)\n",
        "                print(os.path.join(dirname, filename))\n",
        "                cpt+=1\n",
        "#            else:\n",
        "#                break\n",
        "\n",
        "\n",
        "# Convert your data to a NumPy array\n",
        "data = np.array(data)\n",
        "\n",
        "print(data.shape)"
      ],
      "metadata": {
        "colab": {
          "base_uri": "https://localhost:8080/"
        },
        "id": "lIGCKBcu6YXi",
        "outputId": "6ab8af75-6cd9-4af1-df1e-5ab1ef0179de"
      },
      "id": "lIGCKBcu6YXi",
      "execution_count": 7,
      "outputs": [
        {
          "output_type": "stream",
          "name": "stdout",
          "text": [
            "/content/drive/MyDrive/UCSD_MLE_Bootcamp_Capstone/data/MalwareDetectionInNetworkTrafficData/raw/CTU-IoT-Malware-Capture-1-1conn.log.labeled.csv\n",
            "/content/drive/MyDrive/UCSD_MLE_Bootcamp_Capstone/data/MalwareDetectionInNetworkTrafficData/raw/CTU-IoT-Malware-Capture-3-1conn.log.labeled.csv\n",
            "/content/drive/MyDrive/UCSD_MLE_Bootcamp_Capstone/data/MalwareDetectionInNetworkTrafficData/raw/CTU-IoT-Malware-Capture-21-1conn.log.labeled.csv\n",
            "/content/drive/MyDrive/UCSD_MLE_Bootcamp_Capstone/data/MalwareDetectionInNetworkTrafficData/raw/CTU-IoT-Malware-Capture-20-1conn.log.labeled.csv\n",
            "/content/drive/MyDrive/UCSD_MLE_Bootcamp_Capstone/data/MalwareDetectionInNetworkTrafficData/raw/CTU-IoT-Malware-Capture-34-1conn.log.labeled.csv\n",
            "/content/drive/MyDrive/UCSD_MLE_Bootcamp_Capstone/data/MalwareDetectionInNetworkTrafficData/raw/CTU-IoT-Malware-Capture-35-1conn.log.labeled.csv\n",
            "/content/drive/MyDrive/UCSD_MLE_Bootcamp_Capstone/data/MalwareDetectionInNetworkTrafficData/raw/CTU-IoT-Malware-Capture-48-1conn.log.labeled.csv\n",
            "/content/drive/MyDrive/UCSD_MLE_Bootcamp_Capstone/data/MalwareDetectionInNetworkTrafficData/raw/CTU-IoT-Malware-Capture-42-1conn.log.labeled.csv\n",
            "/content/drive/MyDrive/UCSD_MLE_Bootcamp_Capstone/data/MalwareDetectionInNetworkTrafficData/raw/CTU-IoT-Malware-Capture-60-1conn.log.labeled.csv\n",
            "/content/drive/MyDrive/UCSD_MLE_Bootcamp_Capstone/data/MalwareDetectionInNetworkTrafficData/raw/CTU-IoT-Malware-Capture-9-1conn.log.labeled.csv\n",
            "(25000363, 23)\n"
          ]
        }
      ]
    },
    {
      "cell_type": "code",
      "source": [
        "# NOTE: To stay within available resources and save time,\n",
        "#       I am selecting a random 3 million records from the dataset\n",
        "\n",
        "# Shuffle the data and take 3M to use in our training/validation/testing\n",
        "np.random.shuffle(data)\n",
        "data = data[0:3000000]\n",
        "\n",
        "print(data.shape)"
      ],
      "metadata": {
        "colab": {
          "base_uri": "https://localhost:8080/"
        },
        "id": "U345f9tn5v-5",
        "outputId": "4a36e814-ca74-4fc9-a43b-921b9f0bd8a6"
      },
      "id": "U345f9tn5v-5",
      "execution_count": 8,
      "outputs": [
        {
          "output_type": "stream",
          "name": "stdout",
          "text": [
            "(3000000, 23)\n"
          ]
        }
      ]
    },
    {
      "cell_type": "code",
      "source": [
        "# NOTE: Creating a copy at this point so I don't have to reload everytime\n",
        "data_save = data.copy()"
      ],
      "metadata": {
        "id": "lPkOZtL8GepC"
      },
      "id": "lPkOZtL8GepC",
      "execution_count": 9,
      "outputs": []
    },
    {
      "cell_type": "code",
      "source": [
        "# NOTE: This code is for when I want to reset to this point\n",
        "data = data_save.copy()"
      ],
      "metadata": {
        "id": "e5slwlnzGlos"
      },
      "id": "e5slwlnzGlos",
      "execution_count": 10,
      "outputs": []
    },
    {
      "metadata": {
        "ExecuteTime": {
          "end_time": "2024-09-05T04:24:20.915686Z",
          "start_time": "2024-09-05T04:24:20.911396Z"
        },
        "colab": {
          "base_uri": "https://localhost:8080/"
        },
        "id": "79b69d4ba7267484",
        "outputId": "7a2fbe24-7f98-41f7-bbb5-12ac4a1afeb0"
      },
      "cell_type": "code",
      "source": [
        "print(data[0])"
      ],
      "id": "79b69d4ba7267484",
      "outputs": [
        {
          "output_type": "stream",
          "name": "stdout",
          "text": [
            "['1551379416.609944' 'C9rXSc1MhYDt1VCcgb' '192.168.1.200' '40132'\n",
            " '177.69.166.102' '23' 'tcp' '-' '3.094976' '0' '0' 'S0' '-' '-' '0' 'S'\n",
            " '6' '360' '0' '0' '-' 'Malicious   PartOfAHorizontalPortScan' '']\n"
          ]
        }
      ],
      "execution_count": 11
    },
    {
      "metadata": {
        "id": "ce03e0532ac4369d"
      },
      "cell_type": "markdown",
      "source": [
        "# Process Data"
      ],
      "id": "ce03e0532ac4369d"
    },
    {
      "cell_type": "code",
      "source": [
        "# NOTE: Displaying column names so I know which is which\n",
        "columns='ts|uid|id.orig_h|id.orig_p|id.resp_h|id.resp_p|proto|service|duration|orig_bytes|resp_bytes|conn_state|local_orig|local_resp|missed_bytes|history|orig_pkts|orig_ip_bytes|resp_pkts|resp_ip_bytes|tunnel_parents|label|detailed-label'.split('|')\n",
        "for i in range(len(columns)):\n",
        "    print(f'{i}: {columns[i]}')\n"
      ],
      "metadata": {
        "colab": {
          "base_uri": "https://localhost:8080/"
        },
        "id": "hH69QuNMBmKZ",
        "outputId": "8f736e44-71e6-4d63-dc06-eb7aa35c063d"
      },
      "id": "hH69QuNMBmKZ",
      "execution_count": 12,
      "outputs": [
        {
          "output_type": "stream",
          "name": "stdout",
          "text": [
            "0: ts\n",
            "1: uid\n",
            "2: id.orig_h\n",
            "3: id.orig_p\n",
            "4: id.resp_h\n",
            "5: id.resp_p\n",
            "6: proto\n",
            "7: service\n",
            "8: duration\n",
            "9: orig_bytes\n",
            "10: resp_bytes\n",
            "11: conn_state\n",
            "12: local_orig\n",
            "13: local_resp\n",
            "14: missed_bytes\n",
            "15: history\n",
            "16: orig_pkts\n",
            "17: orig_ip_bytes\n",
            "18: resp_pkts\n",
            "19: resp_ip_bytes\n",
            "20: tunnel_parents\n",
            "21: label\n",
            "22: detailed-label\n"
          ]
        }
      ]
    },
    {
      "metadata": {
        "ExecuteTime": {
          "end_time": "2024-09-05T04:24:32.265643Z",
          "start_time": "2024-09-05T04:24:20.966475Z"
        },
        "colab": {
          "base_uri": "https://localhost:8080/"
        },
        "id": "6d1657ba59da6f43",
        "outputId": "3f279350-47af-439b-8f9a-5a1ac9aba867"
      },
      "cell_type": "code",
      "source": [
        "columns_to_remove = [0, 1, 2, 4, 12, 13, 14, 20, 22]\n",
        "\n",
        "# NOTE: List columns being dropped\n",
        "print('Removing columns:')\n",
        "new_columns = []\n",
        "for i in range(len(columns)):\n",
        "    if i in columns_to_remove:\n",
        "      print(f'\\t{columns[i]}')\n",
        "    else:\n",
        "      new_columns.append(columns[i])\n",
        "columns = new_columns\n",
        "\n",
        "# Remove columns using NumPy's array slicing\n",
        "data = np.delete(data, columns_to_remove, axis=1)"
      ],
      "id": "6d1657ba59da6f43",
      "outputs": [
        {
          "output_type": "stream",
          "name": "stdout",
          "text": [
            "Removing columns:\n",
            "\tts\n",
            "\tuid\n",
            "\tid.orig_h\n",
            "\tid.resp_h\n",
            "\tlocal_orig\n",
            "\tlocal_resp\n",
            "\tmissed_bytes\n",
            "\ttunnel_parents\n",
            "\tdetailed-label\n"
          ]
        }
      ],
      "execution_count": 13
    },
    {
      "cell_type": "code",
      "source": [
        "# NOTE: Look at what we have left\n",
        "print(columns)\n",
        "\n",
        "for i in range(5):\n",
        "  print(data[i])"
      ],
      "metadata": {
        "colab": {
          "base_uri": "https://localhost:8080/"
        },
        "id": "xdV0os8TFv6e",
        "outputId": "419c9a74-23b7-4879-d236-6001fb280b70"
      },
      "id": "xdV0os8TFv6e",
      "execution_count": 14,
      "outputs": [
        {
          "output_type": "stream",
          "name": "stdout",
          "text": [
            "['id.orig_p', 'id.resp_p', 'proto', 'service', 'duration', 'orig_bytes', 'resp_bytes', 'conn_state', 'history', 'orig_pkts', 'orig_ip_bytes', 'resp_pkts', 'resp_ip_bytes', 'label']\n",
            "['40132' '23' 'tcp' '-' '3.094976' '0' '0' 'S0' 'S' '6' '360' '0' '0'\n",
            " 'Malicious   PartOfAHorizontalPortScan']\n",
            "['13312' '80' 'tcp' '-' '-' '-' '-' 'RSTOS0' 'I' '1' '40' '0' '0'\n",
            " 'Malicious   DDoS']\n",
            "['52544' '23' 'tcp' '-' '3.127974' '0' '0' 'S0' 'S' '3' '180' '0' '0'\n",
            " 'Benign']\n",
            "['48896' '992' 'tcp' '-' '-' '-' '-' 'RSTOS0' 'I' '1' '40' '0' '0'\n",
            " 'Malicious   DDoS']\n",
            "['52204' '23' 'tcp' '-' '1e-06' '0' '0' 'S0' 'S' '2' '120' '0' '0'\n",
            " 'Malicious   PartOfAHorizontalPortScan']\n"
          ]
        }
      ]
    },
    {
      "cell_type": "code",
      "source": [
        "# Make Malicious = 1 and Benign = 0\n",
        "for row in data:\n",
        "    if row[-1] == 'Benign':\n",
        "        row[-1] = 0\n",
        "    else:\n",
        "        row[-1] = 1"
      ],
      "metadata": {
        "id": "wGdOoslxFDcp"
      },
      "id": "wGdOoslxFDcp",
      "execution_count": 15,
      "outputs": []
    },
    {
      "cell_type": "code",
      "source": [
        "columns_to_transform = [3, 4, 5, 6, 8]\n",
        "# Columns to put 0 if '-'\n",
        "zeros = [4, 5, 6]\n",
        "# Replace '-'\n",
        "for row in data:\n",
        "    for column in columns_to_transform:\n",
        "        if row[column] == '-' and column in zeros:\n",
        "            row[column] = 0\n",
        "        elif row[column] == '-' and column not in zeros:\n",
        "            row[column] = 'Unkown'\n",
        "\n",
        "columns_to_convert_to_float = [4]\n",
        "# Convert columns to float\n",
        "for row in data:\n",
        "    for column in columns_to_convert_to_float:\n",
        "        row[column] = float(row[column])\n",
        "\n",
        "columns_to_convert_to_int = [0, 1, 5, 6, 8, 9, 10, 11]\n",
        "\n",
        "# Convert columns to int\n",
        "for row in data:\n",
        "    for column in columns_to_convert_to_int:\n",
        "        try:\n",
        "            # Attempt to convert the value to an integer\n",
        "            row[column] = int(row[column])\n",
        "        except (ValueError, TypeError):\n",
        "            pass\n",
        "\n",
        "# Remove rows where first column contains ip address\n",
        "rows_to_remove = []\n",
        "for index, row in enumerate(data):\n",
        "    # If the first column is an IP address\n",
        "    if row[0].count('.') == 3:\n",
        "        rows_to_remove.append(index)\n",
        "\n",
        "print(f'Removing {len(rows_to_remove)} of {len(data)} rows.')\n",
        "\n",
        "# Delete the rows by index\n",
        "for index in sorted(rows_to_remove, reverse=True):\n",
        "    del data[index]"
      ],
      "metadata": {
        "colab": {
          "base_uri": "https://localhost:8080/"
        },
        "id": "WeL63fMZInZq",
        "outputId": "042108d2-06d4-4142-9230-5d8c8a6010d0"
      },
      "id": "WeL63fMZInZq",
      "execution_count": 16,
      "outputs": [
        {
          "output_type": "stream",
          "name": "stdout",
          "text": [
            "Removing 0 of 3000000 rows.\n"
          ]
        }
      ]
    },
    {
      "cell_type": "code",
      "source": [
        "# NOTE: Look at what we have left\n",
        "print(columns)\n",
        "\n",
        "for i in range(10):\n",
        "  print(data[i])"
      ],
      "metadata": {
        "colab": {
          "base_uri": "https://localhost:8080/"
        },
        "id": "r3kKL1U_JeCt",
        "outputId": "a05ffcd0-c693-43a8-b5cf-1394b910e8c9"
      },
      "id": "r3kKL1U_JeCt",
      "execution_count": 17,
      "outputs": [
        {
          "output_type": "stream",
          "name": "stdout",
          "text": [
            "['id.orig_p', 'id.resp_p', 'proto', 'service', 'duration', 'orig_bytes', 'resp_bytes', 'conn_state', 'history', 'orig_pkts', 'orig_ip_bytes', 'resp_pkts', 'resp_ip_bytes', 'label']\n",
            "['40132' '23' 'tcp' 'Unkown' '3.094976' '0' '0' 'S0' 'S' '6' '360' '0' '0'\n",
            " '1']\n",
            "['13312' '80' 'tcp' 'Unkown' '0.0' '0' '0' 'RSTOS0' 'I' '1' '40' '0' '0'\n",
            " '1']\n",
            "['52544' '23' 'tcp' 'Unkown' '3.127974' '0' '0' 'S0' 'S' '3' '180' '0' '0'\n",
            " '0']\n",
            "['48896' '992' 'tcp' 'Unkown' '0.0' '0' '0' 'RSTOS0' 'I' '1' '40' '0' '0'\n",
            " '1']\n",
            "['52204' '23' 'tcp' 'Unkown' '1e-06' '0' '0' 'S0' 'S' '2' '120' '0' '0'\n",
            " '1']\n",
            "['2801' '23' 'tcp' 'Unkown' '0.0' '0' '0' 'S0' 'S' '1' '40' '0' '0' '1']\n",
            "['29347' '62336' 'tcp' 'Unkown' '0.0' '0' '0' 'OTH' 'C' '0' '0' '0' '0'\n",
            " '1']\n",
            "['34436' '81' 'tcp' 'Unkown' '0.0' '0' '0' 'S0' 'S' '1' '40' '0' '0' '1']\n",
            "['33768' '23' 'tcp' 'Unkown' '3.150207' '0' '0' 'S0' 'S' '3' '180' '0' '0'\n",
            " '0']\n",
            "['22123' '992' 'tcp' 'Unkown' '0.0' '0' '0' 'RSTOS0' 'I' '1' '40' '0' '0'\n",
            " '1']\n"
          ]
        }
      ]
    },
    {
      "metadata": {
        "ExecuteTime": {
          "end_time": "2024-09-05T04:25:09.069799Z",
          "start_time": "2024-09-05T04:24:32.286225Z"
        },
        "colab": {
          "base_uri": "https://localhost:8080/"
        },
        "id": "3e4e4b8f69303d73",
        "outputId": "a8f1a7d4-0015-4408-ac2c-14f19fd94dec"
      },
      "cell_type": "code",
      "source": [
        "import numpy as np\n",
        "from sklearn.preprocessing import OneHotEncoder\n",
        "\n",
        "# columns_to_onehot = [0, 1, 2, 3, 7, 8]\n",
        "columns_to_onehot = [2, 3, 7, 8]\n",
        "\n",
        "print('Before one-hot encoding features:')\n",
        "print(data[0])\n",
        "print(data[0].shape)\n",
        "\n",
        "onehot_encoder = OneHotEncoder(sparse_output=True)\n",
        "\n",
        "dataCopy = data.copy()\n",
        "\n",
        "addedCols = 0\n",
        "for column in columns_to_onehot:\n",
        "    print(f'Encoding column {column}...')\n",
        "    column_values = data[:, column]\n",
        "    onehot_encoded = onehot_encoder.fit_transform(column_values.reshape(-1, 1)).toarray()\n",
        "    dataCopy = np.delete(dataCopy, column + addedCols, axis=1)\n",
        "\n",
        "    # Insert the new columns\n",
        "    for i, encoded_column in enumerate(onehot_encoded.T):\n",
        "        dataCopy = np.insert(dataCopy, column + i + addedCols, encoded_column, axis=1)\n",
        "        print('.', end='')\n",
        "    print(f'Done encoding column {column}.')\n",
        "\n",
        "    addedCols += onehot_encoded.shape[1] - 1\n",
        "\n",
        "print(f'Encoding done.')\n",
        "data = dataCopy\n",
        "\n",
        "\n",
        "print('After one-hot encoding features:')\n",
        "print(data[0])\n",
        "print(data[0].shape)\n",
        "\n"
      ],
      "id": "3e4e4b8f69303d73",
      "outputs": [
        {
          "output_type": "stream",
          "name": "stdout",
          "text": [
            "Before one-hot encoding features:\n",
            "['40132' '23' 'tcp' 'Unkown' '3.094976' '0' '0' 'S0' 'S' '6' '360' '0' '0'\n",
            " '1']\n",
            "(14,)\n",
            "Encoding column 2...\n",
            "...Done encoding column 2.\n",
            "Encoding column 3...\n",
            ".......Done encoding column 3.\n",
            "Encoding column 7...\n",
            "............Done encoding column 7.\n",
            "Encoding column 8...\n",
            "...................................................................................................................Done encoding column 8.\n",
            "Encoding done.\n",
            "After one-hot encoding features:\n",
            "['40132' '23' '0.0' '1.0' '0.0' '1.0' '0.0' '0.0' '0.0' '0.0' '0.0' '0.0'\n",
            " '3.094976' '0' '0' '0.0' '0.0' '0.0' '0.0' '0.0' '0.0' '1.0' '0.0' '0.0'\n",
            " '0.0' '0.0' '0.0' '0.0' '0.0' '0.0' '0.0' '0.0' '0.0' '0.0' '0.0' '0.0'\n",
            " '0.0' '0.0' '0.0' '0.0' '0.0' '0.0' '0.0' '1.0' '0.0' '0.0' '0.0' '0.0'\n",
            " '0.0' '0.0' '0.0' '0.0' '0.0' '0.0' '0.0' '0.0' '0.0' '0.0' '0.0' '0.0'\n",
            " '0.0' '0.0' '0.0' '0.0' '0.0' '0.0' '0.0' '0.0' '0.0' '0.0' '0.0' '0.0'\n",
            " '0.0' '0.0' '0.0' '0.0' '0.0' '0.0' '0.0' '0.0' '0.0' '0.0' '0.0' '0.0'\n",
            " '0.0' '0.0' '0.0' '0.0' '0.0' '0.0' '0.0' '0.0' '0.0' '0.0' '0.0' '0.0'\n",
            " '0.0' '0.0' '0.0' '0.0' '0.0' '0.0' '0.0' '0.0' '0.0' '0.0' '0.0' '0.0'\n",
            " '0.0' '0.0' '0.0' '0.0' '0.0' '0.0' '0.0' '0.0' '0.0' '0.0' '0.0' '0.0'\n",
            " '0.0' '0.0' '0.0' '0.0' '0.0' '0.0' '0.0' '0.0' '0.0' '0.0' '0.0' '0.0'\n",
            " '0.0' '0.0' '0.0' '0.0' '0.0' '0.0' '0.0' '0.0' '0.0' '0.0' '6' '360' '0'\n",
            " '0' '1']\n",
            "(147,)\n"
          ]
        }
      ],
      "execution_count": 18
    },
    {
      "cell_type": "code",
      "source": [
        "ohe_data = data.copy()"
      ],
      "metadata": {
        "id": "Wpi6C4DyeQng"
      },
      "id": "Wpi6C4DyeQng",
      "execution_count": 19,
      "outputs": []
    },
    {
      "metadata": {
        "ExecuteTime": {
          "end_time": "2024-09-05T04:26:04.917925Z",
          "start_time": "2024-09-05T04:25:09.093372Z"
        },
        "id": "c8d7285fe56d2f34"
      },
      "cell_type": "code",
      "source": [
        "  # Check if any of the data contains strings\n",
        "for row in data:\n",
        "    for column in row:\n",
        "        if isinstance(column, str):\n",
        "            #Convert the value to a float, if possible\n",
        "            try:\n",
        "                column = float(column)\n",
        "            except ValueError:\n",
        "                pass\n",
        "\n",
        "# Initialize an empty list to store preprocessed data\n",
        "preprocessed_data = []\n",
        "\n",
        "# Iterate through the rows in the data\n",
        "for row in data:\n",
        "    try:\n",
        "        # Convert all columns to floats in this row\n",
        "        float_row = [float(column) if column != '-' else 0.0 for column in row]\n",
        "        preprocessed_data.append(float_row)\n",
        "    except ValueError:\n",
        "        print('Skipping row with non-convertible values:', row)\n",
        "\n",
        "data = preprocessed_data\n",
        "\n",
        "# Check if data contains strings\n",
        "for row in data:\n",
        "    for column in row:\n",
        "        if isinstance(column, str):\n",
        "            print('Error: String found in data: ', column)\n",
        "            break\n",
        "\n",
        "preprocessed_data = data\n",
        "\n",
        "# Convert preprocessed_data to a normal Python list of lists\n",
        "preprocessed_data = [list(row) for row in preprocessed_data]\n",
        "\n",
        "\n"
      ],
      "id": "c8d7285fe56d2f34",
      "outputs": [],
      "execution_count": 20
    },
    {
      "metadata": {
        "ExecuteTime": {
          "end_time": "2024-09-05T04:26:04.942416Z",
          "start_time": "2024-09-05T04:26:04.938793Z"
        },
        "id": "f40e273e0ce9adb5",
        "outputId": "b6831a65-a22e-4d86-c1b9-e0795cadb6da",
        "colab": {
          "base_uri": "https://localhost:8080/"
        }
      },
      "cell_type": "code",
      "source": [
        "# Print the first 10 rows preprocessed data\n",
        "for row in preprocessed_data[:10]:\n",
        "    print(row)\n"
      ],
      "id": "f40e273e0ce9adb5",
      "outputs": [
        {
          "output_type": "stream",
          "name": "stdout",
          "text": [
            "[40132.0, 23.0, 0.0, 1.0, 0.0, 1.0, 0.0, 0.0, 0.0, 0.0, 0.0, 0.0, 3.094976, 0.0, 0.0, 0.0, 0.0, 0.0, 0.0, 0.0, 0.0, 1.0, 0.0, 0.0, 0.0, 0.0, 0.0, 0.0, 0.0, 0.0, 0.0, 0.0, 0.0, 0.0, 0.0, 0.0, 0.0, 0.0, 0.0, 0.0, 0.0, 0.0, 0.0, 1.0, 0.0, 0.0, 0.0, 0.0, 0.0, 0.0, 0.0, 0.0, 0.0, 0.0, 0.0, 0.0, 0.0, 0.0, 0.0, 0.0, 0.0, 0.0, 0.0, 0.0, 0.0, 0.0, 0.0, 0.0, 0.0, 0.0, 0.0, 0.0, 0.0, 0.0, 0.0, 0.0, 0.0, 0.0, 0.0, 0.0, 0.0, 0.0, 0.0, 0.0, 0.0, 0.0, 0.0, 0.0, 0.0, 0.0, 0.0, 0.0, 0.0, 0.0, 0.0, 0.0, 0.0, 0.0, 0.0, 0.0, 0.0, 0.0, 0.0, 0.0, 0.0, 0.0, 0.0, 0.0, 0.0, 0.0, 0.0, 0.0, 0.0, 0.0, 0.0, 0.0, 0.0, 0.0, 0.0, 0.0, 0.0, 0.0, 0.0, 0.0, 0.0, 0.0, 0.0, 0.0, 0.0, 0.0, 0.0, 0.0, 0.0, 0.0, 0.0, 0.0, 0.0, 0.0, 0.0, 0.0, 0.0, 0.0, 6.0, 360.0, 0.0, 0.0, 1.0]\n",
            "[13312.0, 80.0, 0.0, 1.0, 0.0, 1.0, 0.0, 0.0, 0.0, 0.0, 0.0, 0.0, 0.0, 0.0, 0.0, 0.0, 0.0, 0.0, 1.0, 0.0, 0.0, 0.0, 0.0, 0.0, 0.0, 0.0, 0.0, 0.0, 0.0, 0.0, 0.0, 0.0, 0.0, 0.0, 0.0, 0.0, 0.0, 0.0, 0.0, 0.0, 0.0, 1.0, 0.0, 0.0, 0.0, 0.0, 0.0, 0.0, 0.0, 0.0, 0.0, 0.0, 0.0, 0.0, 0.0, 0.0, 0.0, 0.0, 0.0, 0.0, 0.0, 0.0, 0.0, 0.0, 0.0, 0.0, 0.0, 0.0, 0.0, 0.0, 0.0, 0.0, 0.0, 0.0, 0.0, 0.0, 0.0, 0.0, 0.0, 0.0, 0.0, 0.0, 0.0, 0.0, 0.0, 0.0, 0.0, 0.0, 0.0, 0.0, 0.0, 0.0, 0.0, 0.0, 0.0, 0.0, 0.0, 0.0, 0.0, 0.0, 0.0, 0.0, 0.0, 0.0, 0.0, 0.0, 0.0, 0.0, 0.0, 0.0, 0.0, 0.0, 0.0, 0.0, 0.0, 0.0, 0.0, 0.0, 0.0, 0.0, 0.0, 0.0, 0.0, 0.0, 0.0, 0.0, 0.0, 0.0, 0.0, 0.0, 0.0, 0.0, 0.0, 0.0, 0.0, 0.0, 0.0, 0.0, 0.0, 0.0, 0.0, 0.0, 1.0, 40.0, 0.0, 0.0, 1.0]\n",
            "[52544.0, 23.0, 0.0, 1.0, 0.0, 1.0, 0.0, 0.0, 0.0, 0.0, 0.0, 0.0, 3.127974, 0.0, 0.0, 0.0, 0.0, 0.0, 0.0, 0.0, 0.0, 1.0, 0.0, 0.0, 0.0, 0.0, 0.0, 0.0, 0.0, 0.0, 0.0, 0.0, 0.0, 0.0, 0.0, 0.0, 0.0, 0.0, 0.0, 0.0, 0.0, 0.0, 0.0, 1.0, 0.0, 0.0, 0.0, 0.0, 0.0, 0.0, 0.0, 0.0, 0.0, 0.0, 0.0, 0.0, 0.0, 0.0, 0.0, 0.0, 0.0, 0.0, 0.0, 0.0, 0.0, 0.0, 0.0, 0.0, 0.0, 0.0, 0.0, 0.0, 0.0, 0.0, 0.0, 0.0, 0.0, 0.0, 0.0, 0.0, 0.0, 0.0, 0.0, 0.0, 0.0, 0.0, 0.0, 0.0, 0.0, 0.0, 0.0, 0.0, 0.0, 0.0, 0.0, 0.0, 0.0, 0.0, 0.0, 0.0, 0.0, 0.0, 0.0, 0.0, 0.0, 0.0, 0.0, 0.0, 0.0, 0.0, 0.0, 0.0, 0.0, 0.0, 0.0, 0.0, 0.0, 0.0, 0.0, 0.0, 0.0, 0.0, 0.0, 0.0, 0.0, 0.0, 0.0, 0.0, 0.0, 0.0, 0.0, 0.0, 0.0, 0.0, 0.0, 0.0, 0.0, 0.0, 0.0, 0.0, 0.0, 0.0, 3.0, 180.0, 0.0, 0.0, 0.0]\n",
            "[48896.0, 992.0, 0.0, 1.0, 0.0, 1.0, 0.0, 0.0, 0.0, 0.0, 0.0, 0.0, 0.0, 0.0, 0.0, 0.0, 0.0, 0.0, 1.0, 0.0, 0.0, 0.0, 0.0, 0.0, 0.0, 0.0, 0.0, 0.0, 0.0, 0.0, 0.0, 0.0, 0.0, 0.0, 0.0, 0.0, 0.0, 0.0, 0.0, 0.0, 0.0, 1.0, 0.0, 0.0, 0.0, 0.0, 0.0, 0.0, 0.0, 0.0, 0.0, 0.0, 0.0, 0.0, 0.0, 0.0, 0.0, 0.0, 0.0, 0.0, 0.0, 0.0, 0.0, 0.0, 0.0, 0.0, 0.0, 0.0, 0.0, 0.0, 0.0, 0.0, 0.0, 0.0, 0.0, 0.0, 0.0, 0.0, 0.0, 0.0, 0.0, 0.0, 0.0, 0.0, 0.0, 0.0, 0.0, 0.0, 0.0, 0.0, 0.0, 0.0, 0.0, 0.0, 0.0, 0.0, 0.0, 0.0, 0.0, 0.0, 0.0, 0.0, 0.0, 0.0, 0.0, 0.0, 0.0, 0.0, 0.0, 0.0, 0.0, 0.0, 0.0, 0.0, 0.0, 0.0, 0.0, 0.0, 0.0, 0.0, 0.0, 0.0, 0.0, 0.0, 0.0, 0.0, 0.0, 0.0, 0.0, 0.0, 0.0, 0.0, 0.0, 0.0, 0.0, 0.0, 0.0, 0.0, 0.0, 0.0, 0.0, 0.0, 1.0, 40.0, 0.0, 0.0, 1.0]\n",
            "[52204.0, 23.0, 0.0, 1.0, 0.0, 1.0, 0.0, 0.0, 0.0, 0.0, 0.0, 0.0, 1e-06, 0.0, 0.0, 0.0, 0.0, 0.0, 0.0, 0.0, 0.0, 1.0, 0.0, 0.0, 0.0, 0.0, 0.0, 0.0, 0.0, 0.0, 0.0, 0.0, 0.0, 0.0, 0.0, 0.0, 0.0, 0.0, 0.0, 0.0, 0.0, 0.0, 0.0, 1.0, 0.0, 0.0, 0.0, 0.0, 0.0, 0.0, 0.0, 0.0, 0.0, 0.0, 0.0, 0.0, 0.0, 0.0, 0.0, 0.0, 0.0, 0.0, 0.0, 0.0, 0.0, 0.0, 0.0, 0.0, 0.0, 0.0, 0.0, 0.0, 0.0, 0.0, 0.0, 0.0, 0.0, 0.0, 0.0, 0.0, 0.0, 0.0, 0.0, 0.0, 0.0, 0.0, 0.0, 0.0, 0.0, 0.0, 0.0, 0.0, 0.0, 0.0, 0.0, 0.0, 0.0, 0.0, 0.0, 0.0, 0.0, 0.0, 0.0, 0.0, 0.0, 0.0, 0.0, 0.0, 0.0, 0.0, 0.0, 0.0, 0.0, 0.0, 0.0, 0.0, 0.0, 0.0, 0.0, 0.0, 0.0, 0.0, 0.0, 0.0, 0.0, 0.0, 0.0, 0.0, 0.0, 0.0, 0.0, 0.0, 0.0, 0.0, 0.0, 0.0, 0.0, 0.0, 0.0, 0.0, 0.0, 0.0, 2.0, 120.0, 0.0, 0.0, 1.0]\n",
            "[2801.0, 23.0, 0.0, 1.0, 0.0, 1.0, 0.0, 0.0, 0.0, 0.0, 0.0, 0.0, 0.0, 0.0, 0.0, 0.0, 0.0, 0.0, 0.0, 0.0, 0.0, 1.0, 0.0, 0.0, 0.0, 0.0, 0.0, 0.0, 0.0, 0.0, 0.0, 0.0, 0.0, 0.0, 0.0, 0.0, 0.0, 0.0, 0.0, 0.0, 0.0, 0.0, 0.0, 1.0, 0.0, 0.0, 0.0, 0.0, 0.0, 0.0, 0.0, 0.0, 0.0, 0.0, 0.0, 0.0, 0.0, 0.0, 0.0, 0.0, 0.0, 0.0, 0.0, 0.0, 0.0, 0.0, 0.0, 0.0, 0.0, 0.0, 0.0, 0.0, 0.0, 0.0, 0.0, 0.0, 0.0, 0.0, 0.0, 0.0, 0.0, 0.0, 0.0, 0.0, 0.0, 0.0, 0.0, 0.0, 0.0, 0.0, 0.0, 0.0, 0.0, 0.0, 0.0, 0.0, 0.0, 0.0, 0.0, 0.0, 0.0, 0.0, 0.0, 0.0, 0.0, 0.0, 0.0, 0.0, 0.0, 0.0, 0.0, 0.0, 0.0, 0.0, 0.0, 0.0, 0.0, 0.0, 0.0, 0.0, 0.0, 0.0, 0.0, 0.0, 0.0, 0.0, 0.0, 0.0, 0.0, 0.0, 0.0, 0.0, 0.0, 0.0, 0.0, 0.0, 0.0, 0.0, 0.0, 0.0, 0.0, 0.0, 1.0, 40.0, 0.0, 0.0, 1.0]\n",
            "[29347.0, 62336.0, 0.0, 1.0, 0.0, 1.0, 0.0, 0.0, 0.0, 0.0, 0.0, 0.0, 0.0, 0.0, 0.0, 1.0, 0.0, 0.0, 0.0, 0.0, 0.0, 0.0, 0.0, 0.0, 0.0, 0.0, 0.0, 0.0, 1.0, 0.0, 0.0, 0.0, 0.0, 0.0, 0.0, 0.0, 0.0, 0.0, 0.0, 0.0, 0.0, 0.0, 0.0, 0.0, 0.0, 0.0, 0.0, 0.0, 0.0, 0.0, 0.0, 0.0, 0.0, 0.0, 0.0, 0.0, 0.0, 0.0, 0.0, 0.0, 0.0, 0.0, 0.0, 0.0, 0.0, 0.0, 0.0, 0.0, 0.0, 0.0, 0.0, 0.0, 0.0, 0.0, 0.0, 0.0, 0.0, 0.0, 0.0, 0.0, 0.0, 0.0, 0.0, 0.0, 0.0, 0.0, 0.0, 0.0, 0.0, 0.0, 0.0, 0.0, 0.0, 0.0, 0.0, 0.0, 0.0, 0.0, 0.0, 0.0, 0.0, 0.0, 0.0, 0.0, 0.0, 0.0, 0.0, 0.0, 0.0, 0.0, 0.0, 0.0, 0.0, 0.0, 0.0, 0.0, 0.0, 0.0, 0.0, 0.0, 0.0, 0.0, 0.0, 0.0, 0.0, 0.0, 0.0, 0.0, 0.0, 0.0, 0.0, 0.0, 0.0, 0.0, 0.0, 0.0, 0.0, 0.0, 0.0, 0.0, 0.0, 0.0, 0.0, 0.0, 0.0, 0.0, 1.0]\n",
            "[34436.0, 81.0, 0.0, 1.0, 0.0, 1.0, 0.0, 0.0, 0.0, 0.0, 0.0, 0.0, 0.0, 0.0, 0.0, 0.0, 0.0, 0.0, 0.0, 0.0, 0.0, 1.0, 0.0, 0.0, 0.0, 0.0, 0.0, 0.0, 0.0, 0.0, 0.0, 0.0, 0.0, 0.0, 0.0, 0.0, 0.0, 0.0, 0.0, 0.0, 0.0, 0.0, 0.0, 1.0, 0.0, 0.0, 0.0, 0.0, 0.0, 0.0, 0.0, 0.0, 0.0, 0.0, 0.0, 0.0, 0.0, 0.0, 0.0, 0.0, 0.0, 0.0, 0.0, 0.0, 0.0, 0.0, 0.0, 0.0, 0.0, 0.0, 0.0, 0.0, 0.0, 0.0, 0.0, 0.0, 0.0, 0.0, 0.0, 0.0, 0.0, 0.0, 0.0, 0.0, 0.0, 0.0, 0.0, 0.0, 0.0, 0.0, 0.0, 0.0, 0.0, 0.0, 0.0, 0.0, 0.0, 0.0, 0.0, 0.0, 0.0, 0.0, 0.0, 0.0, 0.0, 0.0, 0.0, 0.0, 0.0, 0.0, 0.0, 0.0, 0.0, 0.0, 0.0, 0.0, 0.0, 0.0, 0.0, 0.0, 0.0, 0.0, 0.0, 0.0, 0.0, 0.0, 0.0, 0.0, 0.0, 0.0, 0.0, 0.0, 0.0, 0.0, 0.0, 0.0, 0.0, 0.0, 0.0, 0.0, 0.0, 0.0, 1.0, 40.0, 0.0, 0.0, 1.0]\n",
            "[33768.0, 23.0, 0.0, 1.0, 0.0, 1.0, 0.0, 0.0, 0.0, 0.0, 0.0, 0.0, 3.150207, 0.0, 0.0, 0.0, 0.0, 0.0, 0.0, 0.0, 0.0, 1.0, 0.0, 0.0, 0.0, 0.0, 0.0, 0.0, 0.0, 0.0, 0.0, 0.0, 0.0, 0.0, 0.0, 0.0, 0.0, 0.0, 0.0, 0.0, 0.0, 0.0, 0.0, 1.0, 0.0, 0.0, 0.0, 0.0, 0.0, 0.0, 0.0, 0.0, 0.0, 0.0, 0.0, 0.0, 0.0, 0.0, 0.0, 0.0, 0.0, 0.0, 0.0, 0.0, 0.0, 0.0, 0.0, 0.0, 0.0, 0.0, 0.0, 0.0, 0.0, 0.0, 0.0, 0.0, 0.0, 0.0, 0.0, 0.0, 0.0, 0.0, 0.0, 0.0, 0.0, 0.0, 0.0, 0.0, 0.0, 0.0, 0.0, 0.0, 0.0, 0.0, 0.0, 0.0, 0.0, 0.0, 0.0, 0.0, 0.0, 0.0, 0.0, 0.0, 0.0, 0.0, 0.0, 0.0, 0.0, 0.0, 0.0, 0.0, 0.0, 0.0, 0.0, 0.0, 0.0, 0.0, 0.0, 0.0, 0.0, 0.0, 0.0, 0.0, 0.0, 0.0, 0.0, 0.0, 0.0, 0.0, 0.0, 0.0, 0.0, 0.0, 0.0, 0.0, 0.0, 0.0, 0.0, 0.0, 0.0, 0.0, 3.0, 180.0, 0.0, 0.0, 0.0]\n",
            "[22123.0, 992.0, 0.0, 1.0, 0.0, 1.0, 0.0, 0.0, 0.0, 0.0, 0.0, 0.0, 0.0, 0.0, 0.0, 0.0, 0.0, 0.0, 1.0, 0.0, 0.0, 0.0, 0.0, 0.0, 0.0, 0.0, 0.0, 0.0, 0.0, 0.0, 0.0, 0.0, 0.0, 0.0, 0.0, 0.0, 0.0, 0.0, 0.0, 0.0, 0.0, 1.0, 0.0, 0.0, 0.0, 0.0, 0.0, 0.0, 0.0, 0.0, 0.0, 0.0, 0.0, 0.0, 0.0, 0.0, 0.0, 0.0, 0.0, 0.0, 0.0, 0.0, 0.0, 0.0, 0.0, 0.0, 0.0, 0.0, 0.0, 0.0, 0.0, 0.0, 0.0, 0.0, 0.0, 0.0, 0.0, 0.0, 0.0, 0.0, 0.0, 0.0, 0.0, 0.0, 0.0, 0.0, 0.0, 0.0, 0.0, 0.0, 0.0, 0.0, 0.0, 0.0, 0.0, 0.0, 0.0, 0.0, 0.0, 0.0, 0.0, 0.0, 0.0, 0.0, 0.0, 0.0, 0.0, 0.0, 0.0, 0.0, 0.0, 0.0, 0.0, 0.0, 0.0, 0.0, 0.0, 0.0, 0.0, 0.0, 0.0, 0.0, 0.0, 0.0, 0.0, 0.0, 0.0, 0.0, 0.0, 0.0, 0.0, 0.0, 0.0, 0.0, 0.0, 0.0, 0.0, 0.0, 0.0, 0.0, 0.0, 0.0, 1.0, 40.0, 0.0, 0.0, 1.0]\n"
          ]
        }
      ],
      "execution_count": 21
    },
    {
      "metadata": {
        "id": "d770ad14cf38bc5b"
      },
      "cell_type": "markdown",
      "source": [
        "# Separate data"
      ],
      "id": "d770ad14cf38bc5b"
    },
    {
      "metadata": {
        "ExecuteTime": {
          "end_time": "2024-09-05T04:26:06.498055Z",
          "start_time": "2024-09-05T04:26:04.968929Z"
        },
        "id": "d2b628db037210e9"
      },
      "cell_type": "code",
      "source": [
        "import random\n",
        "import numpy as np\n",
        "\n",
        "# Separate data\n",
        "\n",
        "# Define the split ratios for training, validation, and test datasets\n",
        "train_ratio = 0.70  # 70% for training\n",
        "val_ratio = 0.15   # 15% for validation\n",
        "test_ratio = 0.15  # 15% for testing\n",
        "\n",
        "train_val_indices = int((train_ratio + val_ratio) * len(preprocessed_data))\n",
        "\n",
        "train_val_data = preprocessed_data[:train_val_indices]\n",
        "test_data = preprocessed_data[train_val_indices:]\n",
        "\n",
        "# Shuffle the data randomly\n",
        "random.shuffle(train_val_data)\n",
        "random.shuffle(test_data)\n",
        "\n",
        "# Calculate the split points\n",
        "total_records = len(train_val_data)\n",
        "train_split = int(train_ratio * total_records)\n",
        "val_split = int(val_ratio * total_records)\n",
        "\n",
        "# Split the data into training, validation\n",
        "train_data = train_val_data[:train_split]\n",
        "val_data = train_val_data[train_split:]"
      ],
      "id": "d2b628db037210e9",
      "outputs": [],
      "execution_count": 22
    },
    {
      "metadata": {
        "ExecuteTime": {
          "end_time": "2024-09-05T04:26:12.102327Z",
          "start_time": "2024-09-05T04:26:06.518787Z"
        },
        "id": "7888e0e216446e9b"
      },
      "cell_type": "code",
      "source": [
        "train_labels = []\n",
        "val_labels = []\n",
        "test_labels = []\n",
        "\n",
        "# Separate the labels from features vectors\n",
        "train_temp = []\n",
        "for row in train_data:\n",
        "    newRow = []\n",
        "    newRow = row[:len(row)-1]\n",
        "    train_temp.append(newRow)\n",
        "    train_labels.append(row[-1])\n",
        "\n",
        "val_temp = []\n",
        "for row in val_data:\n",
        "    newRow = []\n",
        "    newRow = row[:len(row)-1]\n",
        "    val_temp.append(newRow)\n",
        "    val_labels.append(row[-1])\n",
        "\n",
        "test_temp = []\n",
        "for row in test_data:\n",
        "    newRow = []\n",
        "    newRow = row[:len(row)-1]\n",
        "    test_temp.append(newRow)\n",
        "    test_labels.append(row[-1])\n",
        "\n",
        "train_data = train_temp\n",
        "val_data = val_temp\n",
        "test_data = test_temp"
      ],
      "id": "7888e0e216446e9b",
      "outputs": [],
      "execution_count": 23
    },
    {
      "metadata": {
        "ExecuteTime": {
          "end_time": "2024-09-05T04:26:14.388124Z",
          "start_time": "2024-09-05T04:26:12.124036Z"
        },
        "id": "278ff77c009dcec4",
        "outputId": "a7dae25b-1048-4b33-ce78-0aff5a348d4e",
        "colab": {
          "base_uri": "https://localhost:8080/"
        }
      },
      "cell_type": "code",
      "source": [
        "# Convert your data to NumPy arrays\n",
        "train_data = np.array(train_data)\n",
        "train_labels = np.array(train_labels)\n",
        "\n",
        "val_data = np.array(val_data)\n",
        "val_labels = np.array(val_labels)\n",
        "\n",
        "test_data = np.array(test_data)\n",
        "test_labels = np.array(test_labels)\n",
        "\n",
        "# Print rows and columns of the data\n",
        "print(train_data.shape)\n",
        "print(train_labels.shape)\n",
        "print(val_data.shape)\n",
        "print(val_labels.shape)\n"
      ],
      "id": "278ff77c009dcec4",
      "outputs": [
        {
          "output_type": "stream",
          "name": "stdout",
          "text": [
            "(1785000, 146)\n",
            "(1785000,)\n",
            "(765000, 146)\n",
            "(765000,)\n"
          ]
        }
      ],
      "execution_count": 24
    },
    {
      "metadata": {
        "id": "69685822513a2f23"
      },
      "cell_type": "markdown",
      "source": [
        "# Train model"
      ],
      "id": "69685822513a2f23"
    },
    {
      "metadata": {
        "ExecuteTime": {
          "end_time": "2024-09-05T04:26:19.661760Z",
          "start_time": "2024-09-05T04:26:14.473217Z"
        },
        "id": "32bdbd3b09d70d22"
      },
      "cell_type": "code",
      "source": [
        "import tensorflow as tf\n",
        "from tensorflow import keras\n",
        "from keras_tuner.tuners import BayesianOptimization\n",
        "\n",
        "# Check if train data contains strings\n",
        "for row in train_data:\n",
        "    for column in row:\n",
        "        if isinstance(column, str):\n",
        "            print('Error: String found in data: ', column)\n",
        "            break\n",
        "\n",
        "# Check if val data contains strings\n",
        "for row in val_data:\n",
        "    for column in row:\n",
        "        if isinstance(column, str):\n",
        "            print('Error: String found in data: ', column)\n",
        "            break"
      ],
      "id": "32bdbd3b09d70d22",
      "outputs": [],
      "execution_count": 25
    },
    {
      "metadata": {
        "ExecuteTime": {
          "end_time": "2024-09-05T04:26:21.454164Z",
          "start_time": "2024-09-05T04:26:19.679011Z"
        },
        "id": "e0ef60d1dfbcc505",
        "outputId": "9da1490a-6005-4721-fd2f-48fd1123799c",
        "colab": {
          "base_uri": "https://localhost:8080/"
        }
      },
      "cell_type": "code",
      "source": [
        "import gc\n",
        "gc.collect()"
      ],
      "id": "e0ef60d1dfbcc505",
      "outputs": [
        {
          "output_type": "execute_result",
          "data": {
            "text/plain": [
              "57"
            ]
          },
          "metadata": {},
          "execution_count": 26
        }
      ],
      "execution_count": 26
    },
    {
      "metadata": {
        "ExecuteTime": {
          "end_time": "2024-09-05T04:26:46.924893Z",
          "start_time": "2024-09-05T04:26:21.476294Z"
        },
        "id": "e7d1703e6fbe763a",
        "outputId": "ecb1b578-e84e-475d-b15e-f4b4f3f7fd60",
        "colab": {
          "base_uri": "https://localhost:8080/"
        }
      },
      "cell_type": "code",
      "source": [
        "from xgboost import XGBClassifier\n",
        "from sklearn.model_selection import RandomizedSearchCV\n",
        "import numpy as np\n",
        "\n",
        "# Define your XGBoost classifier and hyperparameter search space\n",
        "xgb_model = XGBClassifier()\n",
        "param_space = {\n",
        "    'n_estimators': [100],\n",
        "    'max_depth': [3, 4, 5, 6],\n",
        "    'learning_rate': [0.01, 0.1, 0.2, 0.3],\n",
        "    'subsample': [0.8, 0.9, 1.0],\n",
        "    'colsample_bytree': [0.8, 0.9, 1.0],\n",
        "    'gamma': [0, 0.1, 0.2, 0.3],\n",
        "}\n",
        "\n",
        "# Create a RandomizedSearchCV object\n",
        "random_search = RandomizedSearchCV(\n",
        "    xgb_model,\n",
        "    param_space,\n",
        "    n_iter=5,  # Adjust the number of iterations as needed\n",
        "    scoring='accuracy',  # Use the appropriate scoring metric\n",
        "    n_jobs=-1,  # Use all available CPU cores for parallel processing\n",
        "    cv=5,  # Number of cross-validation folds\n",
        "    random_state=42,  # Set a random seed for reproducibility\n",
        "    verbose=3\n",
        ")\n",
        "\n",
        "# Perform hyperparameter optimization\n",
        "random_search.fit(train_data, train_labels)\n",
        "\n",
        "# Get the best hyperparameters and the best model\n",
        "best_xgb_hps = random_search.best_params_\n",
        "best_xgb_model = random_search.best_estimator_\n"
      ],
      "id": "e7d1703e6fbe763a",
      "outputs": [
        {
          "output_type": "stream",
          "name": "stdout",
          "text": [
            "Fitting 5 folds for each of 5 candidates, totalling 25 fits\n"
          ]
        }
      ],
      "execution_count": 27
    },
    {
      "metadata": {
        "ExecuteTime": {
          "end_time": "2024-09-05T04:26:46.953798Z",
          "start_time": "2024-09-05T04:26:46.950809Z"
        },
        "id": "5e5d2f900de52658",
        "outputId": "7f8eda93-2056-4e0d-82e1-f4639d668b62",
        "colab": {
          "base_uri": "https://localhost:8080/"
        }
      },
      "cell_type": "code",
      "source": [
        "print(best_xgb_hps)"
      ],
      "id": "5e5d2f900de52658",
      "outputs": [
        {
          "output_type": "stream",
          "name": "stdout",
          "text": [
            "{'subsample': 0.8, 'n_estimators': 100, 'max_depth': 5, 'learning_rate': 0.2, 'gamma': 0.1, 'colsample_bytree': 0.9}\n"
          ]
        }
      ],
      "execution_count": 28
    },
    {
      "metadata": {
        "id": "a39255fd4756f668"
      },
      "cell_type": "markdown",
      "source": [
        "# Evaluate model on val set"
      ],
      "id": "a39255fd4756f668"
    },
    {
      "metadata": {
        "ExecuteTime": {
          "end_time": "2024-09-05T04:26:47.533787Z",
          "start_time": "2024-09-05T04:26:47.046081Z"
        },
        "id": "c800a1b406b0f9d8",
        "outputId": "34ee4905-2a2e-4b2f-cc86-1d1ba034314a",
        "colab": {
          "base_uri": "https://localhost:8080/"
        }
      },
      "cell_type": "code",
      "source": [
        "from sklearn.metrics import classification_report, confusion_matrix\n",
        "# Evaluate the Random Forest model on the validation data\n",
        "sgboost_val_predictions = random_search.predict(val_data)\n",
        "sgboost_val_accuracy = np.mean(sgboost_val_predictions == val_labels)\n",
        "print(\"Validation Accuracy (Random Forest):\", sgboost_val_accuracy)\n",
        "\n",
        "# Calculate and print classification report and confusion matrix for Random Forest\n",
        "sgboost_val_report = classification_report(val_labels, sgboost_val_predictions)\n",
        "sgboost_val_confusion = confusion_matrix(val_labels, sgboost_val_predictions)\n",
        "print(\"Validation Classification Report (XGBoost):\")\n",
        "print(sgboost_val_report)\n",
        "print(\"Validation Confusion Matrix (XGBoost):\")\n",
        "print(sgboost_val_confusion)\n"
      ],
      "id": "c800a1b406b0f9d8",
      "outputs": [
        {
          "output_type": "stream",
          "name": "stdout",
          "text": [
            "Validation Accuracy (Random Forest): 0.9923294117647059\n",
            "Validation Classification Report (XGBoost):\n",
            "              precision    recall  f1-score   support\n",
            "\n",
            "         0.0       0.98      1.00      0.99    268694\n",
            "         1.0       1.00      0.99      0.99    496306\n",
            "\n",
            "    accuracy                           0.99    765000\n",
            "   macro avg       0.99      0.99      0.99    765000\n",
            "weighted avg       0.99      0.99      0.99    765000\n",
            "\n",
            "Validation Confusion Matrix (XGBoost):\n",
            "[[268294    400]\n",
            " [  5468 490838]]\n"
          ]
        }
      ],
      "execution_count": 29
    },
    {
      "metadata": {
        "id": "add77af8b432a3e"
      },
      "cell_type": "markdown",
      "source": [
        "# Evaluate model on test set"
      ],
      "id": "add77af8b432a3e"
    },
    {
      "metadata": {
        "ExecuteTime": {
          "end_time": "2024-09-05T04:26:47.834303Z",
          "start_time": "2024-09-05T04:26:47.551022Z"
        },
        "id": "f0ddb3550a7eeae0",
        "outputId": "fb4aa3a7-b398-4fb0-c961-1db5b1a8244c",
        "colab": {
          "base_uri": "https://localhost:8080/"
        }
      },
      "cell_type": "code",
      "source": [
        "# Evaluate the Random Forest model on the test data\n",
        "sgboost_test_predictions = random_search.predict(test_data)\n",
        "sgboost_test_accuracy = np.mean(sgboost_test_predictions == test_labels)\n",
        "print(\"Test Accuracy (SGBoost):\", sgboost_test_accuracy)\n",
        "\n",
        "# Calculate and print classification report and confusion matrix for Random Forest\n",
        "sgboost_test_report = classification_report(test_labels, sgboost_test_predictions)\n",
        "sgboost_test_confusion = confusion_matrix(test_labels, sgboost_test_predictions)\n",
        "print(\"Test Classification Report (XGBoost):\")\n",
        "print(sgboost_test_report)\n",
        "print(\"Test Confusion Matrix (XGBoost):\")\n",
        "print(sgboost_test_confusion)"
      ],
      "id": "f0ddb3550a7eeae0",
      "outputs": [
        {
          "output_type": "stream",
          "name": "stdout",
          "text": [
            "Test Accuracy (SGBoost): 0.9923688888888889\n",
            "Test Classification Report (XGBoost):\n",
            "              precision    recall  f1-score   support\n",
            "\n",
            "         0.0       0.98      1.00      0.99    158231\n",
            "         1.0       1.00      0.99      0.99    291769\n",
            "\n",
            "    accuracy                           0.99    450000\n",
            "   macro avg       0.99      0.99      0.99    450000\n",
            "weighted avg       0.99      0.99      0.99    450000\n",
            "\n",
            "Test Confusion Matrix (XGBoost):\n",
            "[[157994    237]\n",
            " [  3197 288572]]\n"
          ]
        }
      ],
      "execution_count": 30
    },
    {
      "cell_type": "code",
      "source": [
        "# NOTE: Checking precision and recall of the model\n",
        "from sklearn.metrics import precision_score, recall_score\n",
        "from sklearn.metrics import precision_recall_curve, auc\n",
        "import matplotlib.pyplot as plt\n",
        "\n",
        "# Calculate precision, recall, and thresholds\n",
        "precision, recall, thresholds = precision_recall_curve(test_labels, sgboost_test_predictions)\n",
        "\n",
        "# Calculate the area under the PR curve\n",
        "auc_score = auc(recall, precision)\n",
        "\n",
        "# Plot the Precision-Recall curve\n",
        "plt.figure(figsize=(8, 6))\n",
        "plt.plot(recall, precision, marker='.', label='PR Curve')\n",
        "plt.xlabel('Recall')\n",
        "plt.ylabel('Precision')\n",
        "plt.title(f'Precision-Recall Curve (AUC = {auc_score:.2f})')\n",
        "plt.legend()\n",
        "plt.show()"
      ],
      "metadata": {
        "colab": {
          "base_uri": "https://localhost:8080/",
          "height": 564
        },
        "id": "4-NCYdxeA3Md",
        "outputId": "10106923-7d58-4f3d-f17d-1164fb6d463c"
      },
      "id": "4-NCYdxeA3Md",
      "execution_count": 31,
      "outputs": [
        {
          "output_type": "display_data",
          "data": {
            "text/plain": [
              "<Figure size 800x600 with 1 Axes>"
            ],
            "image/png": "[encoded data removed]"
          },
          "metadata": {}
        }
      ]
    },
    {
      "cell_type": "markdown",
      "source": [
        "---\n",
        "---\n",
        "# **Observations:**\n",
        "\n",
        "*   Rémi Blier's use of NumPy arrays as opposed to Pandas Dataframes makes inspecting the data at interim steps harder to understand as there are no column labels. In particular, the steps for dropping and encoding items required careful review to understand what they were doing.\n",
        "*   Adding some additional print statements made it easier to follow what was happening, but more could still be done to make the code easier to understand.\n",
        "\n",
        "\n",
        "\n",
        "# **Conclusions:**\n",
        "\n",
        "*   The XGBoost algorithm seems to do a very good job of predicting target labels for the chosen dataset.\n",
        "*   Though Blier's notbook had only been using the first two data files, the model worked just as well when loading all data and choosing a random 3 million records for the dataset.\n",
        "\n",
        "\n"
      ],
      "metadata": {
        "id": "rVT3WgW8A5hu"
      },
      "id": "rVT3WgW8A5hu"
    }
  ],
  "metadata": {
    "kernelspec": {
      "display_name": "Python 3",
      "name": "python3"
    },
    "language_info": {
      "codemirror_mode": {
        "name": "ipython",
        "version": 2
      },
      "file_extension": ".py",
      "mimetype": "text/x-python",
      "name": "python",
      "nbconvert_exporter": "python",
      "pygments_lexer": "ipython2",
      "version": "2.7.6"
    },
    "colab": {
      "provenance": [],
      "machine_shape": "hm",
      "gpuType": "V28",
      "include_colab_link": true
    },
    "accelerator": "TPU"
  },
  "nbformat": 4,
  "nbformat_minor": 5
}